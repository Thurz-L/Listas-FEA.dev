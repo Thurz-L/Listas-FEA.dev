{
 "cells": [
  {
   "cell_type": "markdown",
   "metadata": {
    "id": "UAEy4Agk-yiU"
   },
   "source": [
    "0. Importe as bibliotecas necessárias"
   ]
  },
  {
   "cell_type": "code",
   "execution_count": 2,
   "metadata": {
    "executionInfo": {
     "elapsed": 6,
     "status": "ok",
     "timestamp": 1630892254245,
     "user": {
      "displayName": "Douglas da Silva Cardoso",
      "photoUrl": "https://lh3.googleusercontent.com/a-/AOh14GgOrif6VblLeboQDcSTAeoxszYPRn5V1bHJm7Oe8g=s64",
      "userId": "06270621460978465746"
     },
     "user_tz": 180
    },
    "id": "Nz4DLp-b-3CY"
   },
   "outputs": [],
   "source": [
    "import pandas as pd\n",
    "import numpy as np"
   ]
  },
  {
   "cell_type": "markdown",
   "metadata": {
    "id": "VrPZY2hh6LHV"
   },
   "source": [
    "1. Importe os dados sobre os penguins, que se encontra no link abaixo.\n",
    "\n",
    "https://raw.githubusercontent.com/mwaskom/seaborn-data/master/penguins.csv"
   ]
  },
  {
   "cell_type": "code",
   "execution_count": 3,
   "metadata": {
    "executionInfo": {
     "elapsed": 4,
     "status": "ok",
     "timestamp": 1630892256279,
     "user": {
      "displayName": "Douglas da Silva Cardoso",
      "photoUrl": "https://lh3.googleusercontent.com/a-/AOh14GgOrif6VblLeboQDcSTAeoxszYPRn5V1bHJm7Oe8g=s64",
      "userId": "06270621460978465746"
     },
     "user_tz": 180
    },
    "id": "7vouJCaL-3qk"
   },
   "outputs": [
    {
     "name": "stdout",
     "output_type": "stream",
     "text": [
      "    species     island  bill_length_mm  bill_depth_mm  flipper_length_mm  \\\n",
      "0    Adelie  Torgersen            39.1           18.7              181.0   \n",
      "1    Adelie  Torgersen            39.5           17.4              186.0   \n",
      "2    Adelie  Torgersen            40.3           18.0              195.0   \n",
      "3    Adelie  Torgersen             NaN            NaN                NaN   \n",
      "4    Adelie  Torgersen            36.7           19.3              193.0   \n",
      "..      ...        ...             ...            ...                ...   \n",
      "339  Gentoo     Biscoe             NaN            NaN                NaN   \n",
      "340  Gentoo     Biscoe            46.8           14.3              215.0   \n",
      "341  Gentoo     Biscoe            50.4           15.7              222.0   \n",
      "342  Gentoo     Biscoe            45.2           14.8              212.0   \n",
      "343  Gentoo     Biscoe            49.9           16.1              213.0   \n",
      "\n",
      "     body_mass_g     sex  \n",
      "0         3750.0    MALE  \n",
      "1         3800.0  FEMALE  \n",
      "2         3250.0  FEMALE  \n",
      "3            NaN     NaN  \n",
      "4         3450.0  FEMALE  \n",
      "..           ...     ...  \n",
      "339          NaN     NaN  \n",
      "340       4850.0  FEMALE  \n",
      "341       5750.0    MALE  \n",
      "342       5200.0  FEMALE  \n",
      "343       5400.0    MALE  \n",
      "\n",
      "[344 rows x 7 columns]\n"
     ]
    }
   ],
   "source": [
    "p = pd.read_csv('https://raw.githubusercontent.com/mwaskom/seaborn-data/master/penguins.csv')\n",
    "print(p)"
   ]
  },
  {
   "cell_type": "markdown",
   "metadata": {
    "id": "tzaOnGME6WGd"
   },
   "source": [
    "2. Mude o nome de todas as colunas para o inglês"
   ]
  },
  {
   "cell_type": "code",
   "execution_count": 4,
   "metadata": {
    "id": "_ddf37F1-4F7"
   },
   "outputs": [
    {
     "name": "stdout",
     "output_type": "stream",
     "text": [
      "    especie       ilha  comprimento_bico_mm  profundidade_bico_mm  \\\n",
      "0    Adelie  Torgersen                 39.1                  18.7   \n",
      "1    Adelie  Torgersen                 39.5                  17.4   \n",
      "2    Adelie  Torgersen                 40.3                  18.0   \n",
      "3    Adelie  Torgersen                  NaN                   NaN   \n",
      "4    Adelie  Torgersen                 36.7                  19.3   \n",
      "..      ...        ...                  ...                   ...   \n",
      "339  Gentoo     Biscoe                  NaN                   NaN   \n",
      "340  Gentoo     Biscoe                 46.8                  14.3   \n",
      "341  Gentoo     Biscoe                 50.4                  15.7   \n",
      "342  Gentoo     Biscoe                 45.2                  14.8   \n",
      "343  Gentoo     Biscoe                 49.9                  16.1   \n",
      "\n",
      "     comprimento_nadadeira_mm  massa_corporal_g    sexo  \n",
      "0                       181.0            3750.0    MALE  \n",
      "1                       186.0            3800.0  FEMALE  \n",
      "2                       195.0            3250.0  FEMALE  \n",
      "3                         NaN               NaN     NaN  \n",
      "4                       193.0            3450.0  FEMALE  \n",
      "..                        ...               ...     ...  \n",
      "339                       NaN               NaN     NaN  \n",
      "340                     215.0            4850.0  FEMALE  \n",
      "341                     222.0            5750.0    MALE  \n",
      "342                     212.0            5200.0  FEMALE  \n",
      "343                     213.0            5400.0    MALE  \n",
      "\n",
      "[344 rows x 7 columns]\n"
     ]
    }
   ],
   "source": [
    "p.columns = ['especie', 'ilha', 'comprimento_bico_mm', 'profundidade_bico_mm', 'comprimento_nadadeira_mm', 'massa_corporal_g', 'sexo']\n",
    "print(p)"
   ]
  },
  {
   "cell_type": "markdown",
   "metadata": {
    "id": "wKooYLwc6n4O"
   },
   "source": [
    "3. Mude os elementos da coluna `sex` (\"MALE\" e \"FEMALE\") para português (\"MASCULINO\" e \"FEMININO\") "
   ]
  },
  {
   "cell_type": "code",
   "execution_count": 5,
   "metadata": {
    "id": "QG56C7la-4g0"
   },
   "outputs": [
    {
     "data": {
      "text/plain": [
       "0    MASCULINO\n",
       "1     FEMININO\n",
       "2     FEMININO\n",
       "3          NaN\n",
       "4     FEMININO\n",
       "Name: sexo, dtype: object"
      ]
     },
     "metadata": {},
     "output_type": "display_data"
    }
   ],
   "source": [
    "p['sexo'] = p['sexo'].replace(['MALE','FEMALE'], ['MASCULINO','FEMININO'])\n",
    "display(p['sexo'].head())"
   ]
  },
  {
   "cell_type": "markdown",
   "metadata": {
    "id": "S8goPDny7QuK"
   },
   "source": [
    "4. Crie uma coluna com o quadrado do peso chamada `quadpeso`"
   ]
  },
  {
   "cell_type": "code",
   "execution_count": 6,
   "metadata": {
    "colab": {
     "base_uri": "https://localhost:8080/",
     "height": 424
    },
    "executionInfo": {
     "elapsed": 256,
     "status": "ok",
     "timestamp": 1630892354613,
     "user": {
      "displayName": "Douglas da Silva Cardoso",
      "photoUrl": "https://lh3.googleusercontent.com/a-/AOh14GgOrif6VblLeboQDcSTAeoxszYPRn5V1bHJm7Oe8g=s64",
      "userId": "06270621460978465746"
     },
     "user_tz": 180
    },
    "id": "TSGu7qXW-426",
    "outputId": "621dc0be-0ea8-4e5f-c1bb-c865d2aea03a"
   },
   "outputs": [
    {
     "name": "stdout",
     "output_type": "stream",
     "text": [
      "    especie       ilha  comprimento_bico_mm  profundidade_bico_mm  \\\n",
      "0    Adelie  Torgersen                 39.1                  18.7   \n",
      "1    Adelie  Torgersen                 39.5                  17.4   \n",
      "2    Adelie  Torgersen                 40.3                  18.0   \n",
      "3    Adelie  Torgersen                  NaN                   NaN   \n",
      "4    Adelie  Torgersen                 36.7                  19.3   \n",
      "..      ...        ...                  ...                   ...   \n",
      "339  Gentoo     Biscoe                  NaN                   NaN   \n",
      "340  Gentoo     Biscoe                 46.8                  14.3   \n",
      "341  Gentoo     Biscoe                 50.4                  15.7   \n",
      "342  Gentoo     Biscoe                 45.2                  14.8   \n",
      "343  Gentoo     Biscoe                 49.9                  16.1   \n",
      "\n",
      "     comprimento_nadadeira_mm  massa_corporal_g       sexo    quadpeso  \n",
      "0                       181.0            3750.0  MASCULINO  14062500.0  \n",
      "1                       186.0            3800.0   FEMININO  14440000.0  \n",
      "2                       195.0            3250.0   FEMININO  10562500.0  \n",
      "3                         NaN               NaN        NaN         NaN  \n",
      "4                       193.0            3450.0   FEMININO  11902500.0  \n",
      "..                        ...               ...        ...         ...  \n",
      "339                       NaN               NaN        NaN         NaN  \n",
      "340                     215.0            4850.0   FEMININO  23522500.0  \n",
      "341                     222.0            5750.0  MASCULINO  33062500.0  \n",
      "342                     212.0            5200.0   FEMININO  27040000.0  \n",
      "343                     213.0            5400.0  MASCULINO  29160000.0  \n",
      "\n",
      "[344 rows x 8 columns]\n"
     ]
    }
   ],
   "source": [
    "p['quadpeso'] = p['massa_corporal_g']**2\n",
    "print(p)"
   ]
  },
  {
   "cell_type": "markdown",
   "metadata": {
    "id": "LNY_KQ7965IO"
   },
   "source": [
    "5. Crie uma coluna chamada `acima_da_media`, que contenha valores booleanos, `True` caso o pinguin esteja com o peso acima da média e `False` caso o pinguin esteja com o peso na média ou abaixo da média. "
   ]
  },
  {
   "cell_type": "code",
   "execution_count": 7,
   "metadata": {
    "id": "MzQ3k70v-5X1"
   },
   "outputs": [
    {
     "name": "stdout",
     "output_type": "stream",
     "text": [
      "    especie       ilha  comprimento_bico_mm  profundidade_bico_mm  \\\n",
      "0    Adelie  Torgersen                 39.1                  18.7   \n",
      "1    Adelie  Torgersen                 39.5                  17.4   \n",
      "2    Adelie  Torgersen                 40.3                  18.0   \n",
      "3    Adelie  Torgersen                  NaN                   NaN   \n",
      "4    Adelie  Torgersen                 36.7                  19.3   \n",
      "..      ...        ...                  ...                   ...   \n",
      "339  Gentoo     Biscoe                  NaN                   NaN   \n",
      "340  Gentoo     Biscoe                 46.8                  14.3   \n",
      "341  Gentoo     Biscoe                 50.4                  15.7   \n",
      "342  Gentoo     Biscoe                 45.2                  14.8   \n",
      "343  Gentoo     Biscoe                 49.9                  16.1   \n",
      "\n",
      "     comprimento_nadadeira_mm  massa_corporal_g       sexo    quadpeso  \\\n",
      "0                       181.0            3750.0  MASCULINO  14062500.0   \n",
      "1                       186.0            3800.0   FEMININO  14440000.0   \n",
      "2                       195.0            3250.0   FEMININO  10562500.0   \n",
      "3                         NaN               NaN        NaN         NaN   \n",
      "4                       193.0            3450.0   FEMININO  11902500.0   \n",
      "..                        ...               ...        ...         ...   \n",
      "339                       NaN               NaN        NaN         NaN   \n",
      "340                     215.0            4850.0   FEMININO  23522500.0   \n",
      "341                     222.0            5750.0  MASCULINO  33062500.0   \n",
      "342                     212.0            5200.0   FEMININO  27040000.0   \n",
      "343                     213.0            5400.0  MASCULINO  29160000.0   \n",
      "\n",
      "     acima_media  \n",
      "0          False  \n",
      "1          False  \n",
      "2          False  \n",
      "3          False  \n",
      "4          False  \n",
      "..           ...  \n",
      "339        False  \n",
      "340         True  \n",
      "341         True  \n",
      "342         True  \n",
      "343         True  \n",
      "\n",
      "[344 rows x 9 columns]\n"
     ]
    }
   ],
   "source": [
    "media = p['massa_corporal_g'].mean()\n",
    "p['acima_media'] = p['massa_corporal_g'] > media\n",
    "print(p)"
   ]
  },
  {
   "cell_type": "markdown",
   "metadata": {
    "id": "CSTCkh_N649G"
   },
   "source": [
    "6. Calcule quantos penguins, por espécie, estão com o peso acima da **média**"
   ]
  },
  {
   "cell_type": "code",
   "execution_count": 8,
   "metadata": {
    "id": "hlPcbk3y-5tK"
   },
   "outputs": [
    {
     "name": "stdout",
     "output_type": "stream",
     "text": [
      "especie\n",
      "Adelie        25\n",
      "Chinstrap      7\n",
      "Gentoo       117\n",
      "Name: acima_media, dtype: int64\n"
     ]
    }
   ],
   "source": [
    "print(p.groupby('especie')['acima_media'].sum())"
   ]
  },
  {
   "cell_type": "markdown",
   "metadata": {
    "id": "y6RPcxpN7_cT"
   },
   "source": [
    "7. Calcule a média e o desvio-padrão dos pinguins, por sexo e por ilha. Depois, jogue fora as linhas que são NaN"
   ]
  },
  {
   "cell_type": "code",
   "execution_count": 9,
   "metadata": {
    "id": "ltqpVAvn-6EM"
   },
   "outputs": [
    {
     "name": "stdout",
     "output_type": "stream",
     "text": [
      "sexo       ilha     \n",
      "FEMININO   Biscoe       4319.375000\n",
      "           Dream        3446.311475\n",
      "           Torgersen    3395.833333\n",
      "MASCULINO  Biscoe       5104.518072\n",
      "           Dream        3987.096774\n",
      "           Torgersen    4034.782609\n",
      "Name: massa_corporal_g, dtype: float64\n",
      "    especie       ilha  comprimento_bico_mm  profundidade_bico_mm  \\\n",
      "0    Adelie  Torgersen                 39.1                  18.7   \n",
      "1    Adelie  Torgersen                 39.5                  17.4   \n",
      "2    Adelie  Torgersen                 40.3                  18.0   \n",
      "4    Adelie  Torgersen                 36.7                  19.3   \n",
      "5    Adelie  Torgersen                 39.3                  20.6   \n",
      "..      ...        ...                  ...                   ...   \n",
      "338  Gentoo     Biscoe                 47.2                  13.7   \n",
      "340  Gentoo     Biscoe                 46.8                  14.3   \n",
      "341  Gentoo     Biscoe                 50.4                  15.7   \n",
      "342  Gentoo     Biscoe                 45.2                  14.8   \n",
      "343  Gentoo     Biscoe                 49.9                  16.1   \n",
      "\n",
      "     comprimento_nadadeira_mm  massa_corporal_g       sexo    quadpeso  \\\n",
      "0                       181.0            3750.0  MASCULINO  14062500.0   \n",
      "1                       186.0            3800.0   FEMININO  14440000.0   \n",
      "2                       195.0            3250.0   FEMININO  10562500.0   \n",
      "4                       193.0            3450.0   FEMININO  11902500.0   \n",
      "5                       190.0            3650.0  MASCULINO  13322500.0   \n",
      "..                        ...               ...        ...         ...   \n",
      "338                     214.0            4925.0   FEMININO  24255625.0   \n",
      "340                     215.0            4850.0   FEMININO  23522500.0   \n",
      "341                     222.0            5750.0  MASCULINO  33062500.0   \n",
      "342                     212.0            5200.0   FEMININO  27040000.0   \n",
      "343                     213.0            5400.0  MASCULINO  29160000.0   \n",
      "\n",
      "     acima_media  \n",
      "0          False  \n",
      "1          False  \n",
      "2          False  \n",
      "4          False  \n",
      "5          False  \n",
      "..           ...  \n",
      "338         True  \n",
      "340         True  \n",
      "341         True  \n",
      "342         True  \n",
      "343         True  \n",
      "\n",
      "[333 rows x 9 columns]\n"
     ]
    }
   ],
   "source": [
    "print(p.groupby(['sexo', 'ilha'])['massa_corporal_g'].agg('mean', 'std'))\n",
    "print(p.dropna())"
   ]
  },
  {
   "cell_type": "markdown",
   "metadata": {
    "id": "wlq8oM128OA4"
   },
   "source": [
    "8. Encontre os pinguins que estão acima de dois desvio-padrão do peso médio.\n",
    "\n",
    "obs: você precisará filtrar os pinguins que estejam acima de `2 * desvio_padrão + peso_médio`"
   ]
  },
  {
   "cell_type": "code",
   "execution_count": 10,
   "metadata": {
    "id": "D1v-9R_J-6Ux"
   },
   "outputs": [
    {
     "data": {
      "text/html": [
       "<div>\n",
       "<style scoped>\n",
       "    .dataframe tbody tr th:only-of-type {\n",
       "        vertical-align: middle;\n",
       "    }\n",
       "\n",
       "    .dataframe tbody tr th {\n",
       "        vertical-align: top;\n",
       "    }\n",
       "\n",
       "    .dataframe thead th {\n",
       "        text-align: right;\n",
       "    }\n",
       "</style>\n",
       "<table border=\"1\" class=\"dataframe\">\n",
       "  <thead>\n",
       "    <tr style=\"text-align: right;\">\n",
       "      <th></th>\n",
       "      <th>especie</th>\n",
       "      <th>ilha</th>\n",
       "      <th>comprimento_bico_mm</th>\n",
       "      <th>profundidade_bico_mm</th>\n",
       "      <th>comprimento_nadadeira_mm</th>\n",
       "      <th>massa_corporal_g</th>\n",
       "      <th>sexo</th>\n",
       "      <th>quadpeso</th>\n",
       "      <th>acima_media</th>\n",
       "    </tr>\n",
       "  </thead>\n",
       "  <tbody>\n",
       "    <tr>\n",
       "      <th>233</th>\n",
       "      <td>Gentoo</td>\n",
       "      <td>Biscoe</td>\n",
       "      <td>48.4</td>\n",
       "      <td>14.6</td>\n",
       "      <td>213.0</td>\n",
       "      <td>5850.0</td>\n",
       "      <td>MASCULINO</td>\n",
       "      <td>34222500.0</td>\n",
       "      <td>True</td>\n",
       "    </tr>\n",
       "    <tr>\n",
       "      <th>235</th>\n",
       "      <td>Gentoo</td>\n",
       "      <td>Biscoe</td>\n",
       "      <td>49.3</td>\n",
       "      <td>15.7</td>\n",
       "      <td>217.0</td>\n",
       "      <td>5850.0</td>\n",
       "      <td>MASCULINO</td>\n",
       "      <td>34222500.0</td>\n",
       "      <td>True</td>\n",
       "    </tr>\n",
       "    <tr>\n",
       "      <th>237</th>\n",
       "      <td>Gentoo</td>\n",
       "      <td>Biscoe</td>\n",
       "      <td>49.2</td>\n",
       "      <td>15.2</td>\n",
       "      <td>221.0</td>\n",
       "      <td>6300.0</td>\n",
       "      <td>MASCULINO</td>\n",
       "      <td>39690000.0</td>\n",
       "      <td>True</td>\n",
       "    </tr>\n",
       "    <tr>\n",
       "      <th>253</th>\n",
       "      <td>Gentoo</td>\n",
       "      <td>Biscoe</td>\n",
       "      <td>59.6</td>\n",
       "      <td>17.0</td>\n",
       "      <td>230.0</td>\n",
       "      <td>6050.0</td>\n",
       "      <td>MASCULINO</td>\n",
       "      <td>36602500.0</td>\n",
       "      <td>True</td>\n",
       "    </tr>\n",
       "    <tr>\n",
       "      <th>297</th>\n",
       "      <td>Gentoo</td>\n",
       "      <td>Biscoe</td>\n",
       "      <td>51.1</td>\n",
       "      <td>16.3</td>\n",
       "      <td>220.0</td>\n",
       "      <td>6000.0</td>\n",
       "      <td>MASCULINO</td>\n",
       "      <td>36000000.0</td>\n",
       "      <td>True</td>\n",
       "    </tr>\n",
       "    <tr>\n",
       "      <th>299</th>\n",
       "      <td>Gentoo</td>\n",
       "      <td>Biscoe</td>\n",
       "      <td>45.2</td>\n",
       "      <td>16.4</td>\n",
       "      <td>223.0</td>\n",
       "      <td>5950.0</td>\n",
       "      <td>MASCULINO</td>\n",
       "      <td>35402500.0</td>\n",
       "      <td>True</td>\n",
       "    </tr>\n",
       "    <tr>\n",
       "      <th>331</th>\n",
       "      <td>Gentoo</td>\n",
       "      <td>Biscoe</td>\n",
       "      <td>49.8</td>\n",
       "      <td>15.9</td>\n",
       "      <td>229.0</td>\n",
       "      <td>5950.0</td>\n",
       "      <td>MASCULINO</td>\n",
       "      <td>35402500.0</td>\n",
       "      <td>True</td>\n",
       "    </tr>\n",
       "    <tr>\n",
       "      <th>335</th>\n",
       "      <td>Gentoo</td>\n",
       "      <td>Biscoe</td>\n",
       "      <td>55.1</td>\n",
       "      <td>16.0</td>\n",
       "      <td>230.0</td>\n",
       "      <td>5850.0</td>\n",
       "      <td>MASCULINO</td>\n",
       "      <td>34222500.0</td>\n",
       "      <td>True</td>\n",
       "    </tr>\n",
       "    <tr>\n",
       "      <th>337</th>\n",
       "      <td>Gentoo</td>\n",
       "      <td>Biscoe</td>\n",
       "      <td>48.8</td>\n",
       "      <td>16.2</td>\n",
       "      <td>222.0</td>\n",
       "      <td>6000.0</td>\n",
       "      <td>MASCULINO</td>\n",
       "      <td>36000000.0</td>\n",
       "      <td>True</td>\n",
       "    </tr>\n",
       "  </tbody>\n",
       "</table>\n",
       "</div>"
      ],
      "text/plain": [
       "    especie    ilha  comprimento_bico_mm  profundidade_bico_mm  \\\n",
       "233  Gentoo  Biscoe                 48.4                  14.6   \n",
       "235  Gentoo  Biscoe                 49.3                  15.7   \n",
       "237  Gentoo  Biscoe                 49.2                  15.2   \n",
       "253  Gentoo  Biscoe                 59.6                  17.0   \n",
       "297  Gentoo  Biscoe                 51.1                  16.3   \n",
       "299  Gentoo  Biscoe                 45.2                  16.4   \n",
       "331  Gentoo  Biscoe                 49.8                  15.9   \n",
       "335  Gentoo  Biscoe                 55.1                  16.0   \n",
       "337  Gentoo  Biscoe                 48.8                  16.2   \n",
       "\n",
       "     comprimento_nadadeira_mm  massa_corporal_g       sexo    quadpeso  \\\n",
       "233                     213.0            5850.0  MASCULINO  34222500.0   \n",
       "235                     217.0            5850.0  MASCULINO  34222500.0   \n",
       "237                     221.0            6300.0  MASCULINO  39690000.0   \n",
       "253                     230.0            6050.0  MASCULINO  36602500.0   \n",
       "297                     220.0            6000.0  MASCULINO  36000000.0   \n",
       "299                     223.0            5950.0  MASCULINO  35402500.0   \n",
       "331                     229.0            5950.0  MASCULINO  35402500.0   \n",
       "335                     230.0            5850.0  MASCULINO  34222500.0   \n",
       "337                     222.0            6000.0  MASCULINO  36000000.0   \n",
       "\n",
       "     acima_media  \n",
       "233         True  \n",
       "235         True  \n",
       "237         True  \n",
       "253         True  \n",
       "297         True  \n",
       "299         True  \n",
       "331         True  \n",
       "335         True  \n",
       "337         True  "
      ]
     },
     "execution_count": 10,
     "metadata": {},
     "output_type": "execute_result"
    }
   ],
   "source": [
    "desvio_padrao = p['massa_corporal_g'].std()\n",
    "peso_medio = p['massa_corporal_g'].mean()\n",
    "\n",
    "p[p['massa_corporal_g'] > 2*desvio_padrao + peso_medio]"
   ]
  },
  {
   "cell_type": "markdown",
   "metadata": {
    "id": "ZdfFgSCW8mGt"
   },
   "source": [
    "9. Para cada grupo de ilha e espécie, encontre o tamanho de bico mediano e a quantidade de penguins"
   ]
  },
  {
   "cell_type": "code",
   "execution_count": 11,
   "metadata": {
    "id": "Eb0vfVUO-6lC"
   },
   "outputs": [
    {
     "data": {
      "text/html": [
       "<div>\n",
       "<style scoped>\n",
       "    .dataframe tbody tr th:only-of-type {\n",
       "        vertical-align: middle;\n",
       "    }\n",
       "\n",
       "    .dataframe tbody tr th {\n",
       "        vertical-align: top;\n",
       "    }\n",
       "\n",
       "    .dataframe thead th {\n",
       "        text-align: right;\n",
       "    }\n",
       "</style>\n",
       "<table border=\"1\" class=\"dataframe\">\n",
       "  <thead>\n",
       "    <tr style=\"text-align: right;\">\n",
       "      <th></th>\n",
       "      <th></th>\n",
       "      <th>median</th>\n",
       "      <th>len</th>\n",
       "    </tr>\n",
       "    <tr>\n",
       "      <th>ilha</th>\n",
       "      <th>especie</th>\n",
       "      <th></th>\n",
       "      <th></th>\n",
       "    </tr>\n",
       "  </thead>\n",
       "  <tbody>\n",
       "    <tr>\n",
       "      <th rowspan=\"2\" valign=\"top\">Biscoe</th>\n",
       "      <th>Adelie</th>\n",
       "      <td>38.70</td>\n",
       "      <td>44</td>\n",
       "    </tr>\n",
       "    <tr>\n",
       "      <th>Gentoo</th>\n",
       "      <td>47.30</td>\n",
       "      <td>124</td>\n",
       "    </tr>\n",
       "    <tr>\n",
       "      <th rowspan=\"2\" valign=\"top\">Dream</th>\n",
       "      <th>Adelie</th>\n",
       "      <td>38.55</td>\n",
       "      <td>56</td>\n",
       "    </tr>\n",
       "    <tr>\n",
       "      <th>Chinstrap</th>\n",
       "      <td>49.55</td>\n",
       "      <td>68</td>\n",
       "    </tr>\n",
       "    <tr>\n",
       "      <th>Torgersen</th>\n",
       "      <th>Adelie</th>\n",
       "      <td>38.90</td>\n",
       "      <td>52</td>\n",
       "    </tr>\n",
       "  </tbody>\n",
       "</table>\n",
       "</div>"
      ],
      "text/plain": [
       "                     median  len\n",
       "ilha      especie               \n",
       "Biscoe    Adelie      38.70   44\n",
       "          Gentoo      47.30  124\n",
       "Dream     Adelie      38.55   56\n",
       "          Chinstrap   49.55   68\n",
       "Torgersen Adelie      38.90   52"
      ]
     },
     "execution_count": 11,
     "metadata": {},
     "output_type": "execute_result"
    }
   ],
   "source": [
    "p.groupby(['ilha', 'especie'])['comprimento_bico_mm'].agg([np.median, len])"
   ]
  },
  {
   "cell_type": "markdown",
   "metadata": {
    "id": "EXzeJISX8z2u"
   },
   "source": [
    "10. Importe os CSVs abaixo para variáveis:\n",
    "\n",
    "`flights.csv`, `airports.csv`, `planes.csv` e `airlines`"
   ]
  },
  {
   "cell_type": "code",
   "execution_count": 12,
   "metadata": {
    "id": "dJxRw6OE-611"
   },
   "outputs": [],
   "source": [
    "flights = pd.read_csv('flights.csv')\n",
    "airports = pd.read_csv('airports.csv')\n",
    "planes = pd.read_csv('planes.csv')\n",
    "airlines = pd.read_csv('airlines.csv')"
   ]
  },
  {
   "cell_type": "markdown",
   "metadata": {
    "id": "xt044V4z9aL-"
   },
   "source": [
    "11. Faça um `left_join` de flights e planes. Depois, faça a média de atraso (`arr_delay`) por `manufacturer`. Tente arranjar os dados para descobrirmos quais são os que mais atrasam *na média* "
   ]
  },
  {
   "cell_type": "code",
   "execution_count": 12,
   "metadata": {
    "id": "F_utTv_3-7F4"
   },
   "outputs": [
    {
     "name": "stdout",
     "output_type": "stream",
     "text": [
      "manufacturer\n",
      "AIRBUS               0.123563\n",
      "AIRBUS INDUSTRIE    20.750000\n",
      "BOEING               1.531208\n",
      "BOMBARDIER INC      13.584352\n",
      "EMBRAER              6.169118\n",
      "Name: arr_delay, dtype: float64\n"
     ]
    }
   ],
   "source": [
    "left_join = pd.merge(flights, planes, how = \"left\")\n",
    "print(left_join.groupby('manufacturer')['arr_delay'].mean())"
   ]
  },
  {
   "cell_type": "markdown",
   "metadata": {
    "id": "LrV_KVDd-HzF"
   },
   "source": [
    "12. Com os dados juntados anteriormente, junte também o dataframe de `airlines`, de acordo com as colunas em comum. Depois, descubra a quantidade de linhas por `origin` e `airlines`"
   ]
  },
  {
   "cell_type": "code",
   "execution_count": 15,
   "metadata": {
    "id": "zHaZ_GC2-7Vd"
   },
   "outputs": [
    {
     "name": "stdout",
     "output_type": "stream",
     "text": [
      "origin  name                       \n",
      "EWR     Alaska Airlines Inc.             714\n",
      "        American Airlines Inc.          3487\n",
      "        Delta Air Lines Inc.            4342\n",
      "        Endeavor Air Inc.               1268\n",
      "        Envoy Air                       2276\n",
      "        ExpressJet Airlines Inc.       43939\n",
      "        JetBlue Airways                 6557\n",
      "        SkyWest Airlines Inc.              6\n",
      "        Southwest Airlines Co.          6188\n",
      "        US Airways Inc.                 4405\n",
      "        United Air Lines Inc.          46087\n",
      "        Virgin America                  1566\n",
      "JFK     American Airlines Inc.         13783\n",
      "        Delta Air Lines Inc.           20701\n",
      "        Endeavor Air Inc.              14651\n",
      "        Envoy Air                       7193\n",
      "        ExpressJet Airlines Inc.        1408\n",
      "        Hawaiian Airlines Inc.           342\n",
      "        JetBlue Airways                42076\n",
      "        US Airways Inc.                 2995\n",
      "        United Air Lines Inc.           4534\n",
      "        Virgin America                  3596\n",
      "LGA     AirTran Airways Corporation     3260\n",
      "        American Airlines Inc.         15459\n",
      "        Delta Air Lines Inc.           23067\n",
      "        Endeavor Air Inc.               2541\n",
      "        Envoy Air                      16928\n",
      "        ExpressJet Airlines Inc.        8826\n",
      "        Frontier Airlines Inc.           685\n",
      "        JetBlue Airways                 6002\n",
      "        Mesa Airlines Inc.               601\n",
      "        SkyWest Airlines Inc.             26\n",
      "        Southwest Airlines Co.          6087\n",
      "        US Airways Inc.                13136\n",
      "        United Air Lines Inc.           8044\n",
      "Name: flight, dtype: int64\n"
     ]
    }
   ],
   "source": [
    "left_join_airlines = pd.merge(left_join, airlines, on = 'carrier', how = 'left')\n",
    "print(left_join_airlines.groupby(['origin', 'name'])['flight'].count())"
   ]
  },
  {
   "cell_type": "markdown",
   "metadata": {
    "id": "d7Ty7OwP-kIb"
   },
   "source": [
    "13. Fique a vontade para brincar com os dados, qualquer dúvida fale com o seu tutor. Fique à vontade de levar sua tentativa de novos arranjos e dúvidas sobre os exercícios para a monitoria."
   ]
  },
  {
   "cell_type": "code",
   "execution_count": null,
   "metadata": {
    "id": "hkifMvvz-7p7"
   },
   "outputs": [],
   "source": []
  }
 ],
 "metadata": {
  "colab": {
   "collapsed_sections": [],
   "name": "Lista_de_exercícios_Pandas_2.ipynb",
   "provenance": []
  },
  "kernelspec": {
   "display_name": "Python 3 (ipykernel)",
   "language": "python",
   "name": "python3"
  },
  "language_info": {
   "codemirror_mode": {
    "name": "ipython",
    "version": 3
   },
   "file_extension": ".py",
   "mimetype": "text/x-python",
   "name": "python",
   "nbconvert_exporter": "python",
   "pygments_lexer": "ipython3",
   "version": "3.9.7"
  }
 },
 "nbformat": 4,
 "nbformat_minor": 1
}
